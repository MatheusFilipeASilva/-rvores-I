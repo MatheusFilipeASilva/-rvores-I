{
 "cells": [
  {
   "cell_type": "markdown",
   "metadata": {
    "id": "d8yCrvnM_2sd"
   },
   "source": [
    "# Módulo 07, Tarefa 01\n",
    "\n",
    "Vamos começar a mexer na nossa base de projeto? Já fizemos um exercício de montar a variável resposta, já pudemos perceber que essa atividade pode não ser trivial. Vamos agora trabalhar a base para que fique propícia ao *scikitlearn* para trabalharmos.\n",
    "\n",
    "Lembrando, a base se chama demo01.csv, e originalmente está publicada [aqui](https://www.kaggle.com/rikdifos/credit-card-approval-prediction)."
   ]
  },
  {
   "cell_type": "markdown",
   "metadata": {
    "id": "hcMBVVE8_2sg"
   },
   "source": [
    "#### 1) Carregue a base e avalie:\n",
    "\n",
    "- As variáveis\n",
    "- Tipos de dados de cada variável\n",
    "- Quantidade de missings\n",
    "- Distribuição da variável resposta (mau)"
   ]
  },
  {
   "cell_type": "code",
   "execution_count": 138,
   "metadata": {
    "id": "jfUxW_PX_2sh"
   },
   "outputs": [
    {
     "name": "stdout",
     "output_type": "stream",
     "text": [
      "<class 'pandas.core.frame.DataFrame'>\n",
      "RangeIndex: 16650 entries, 0 to 16649\n",
      "Data columns (total 16 columns):\n",
      " #   Column                 Non-Null Count  Dtype  \n",
      "---  ------                 --------------  -----  \n",
      " 0   sexo                   16650 non-null  object \n",
      " 1   posse_de_veiculo       16650 non-null  object \n",
      " 2   posse_de_imovel        16650 non-null  object \n",
      " 3   qtd_filhos             16650 non-null  int64  \n",
      " 4   tipo_renda             16650 non-null  object \n",
      " 5   educacao               16650 non-null  object \n",
      " 6   estado_civil           16650 non-null  object \n",
      " 7   tipo_residencia        16650 non-null  object \n",
      " 8   idade                  16650 non-null  float64\n",
      " 9   tempo_emprego          16650 non-null  float64\n",
      " 10  possui_celular         16650 non-null  int64  \n",
      " 11  possui_fone_comercial  16650 non-null  int64  \n",
      " 12  possui_fone            16650 non-null  int64  \n",
      " 13  possui_email           16650 non-null  int64  \n",
      " 14  qt_pessoas_residencia  16650 non-null  float64\n",
      " 15  mau                    16650 non-null  bool   \n",
      "dtypes: bool(1), float64(3), int64(5), object(7)\n",
      "memory usage: 1.9+ MB\n",
      "(16650, 16)\n",
      "(16650, 16)\n"
     ]
    },
    {
     "data": {
      "text/plain": [
       "mau\n",
       "False    16260\n",
       "True       390\n",
       "Name: count, dtype: int64"
      ]
     },
     "execution_count": 138,
     "metadata": {},
     "output_type": "execute_result"
    }
   ],
   "source": [
    "import pandas as pd\n",
    "import seaborn as sns\n",
    "import numpy as np\n",
    "\n",
    "\n",
    "perfil_financeiro = pd.read_csv('demo01.csv')\n",
    "perfil_financeiro.info()\n",
    "print(perfil_financeiro.shape)\n",
    "perfil_financeiro.isna().sum()\n",
    "perfil_financeiro.drop_duplicates()\n",
    "print(perfil_financeiro.shape)\n",
    "\n",
    "# Estes resultados nos mostram que não existiam dados faltantes nem linhas duplicadas em nosso dataframe...\n",
    "\n",
    "perfil_financeiro['mau'].value_counts()\n",
    "\n",
    "# Na nossa distribuição da variável resposta, temos 16260 bons pagadores, contra 390 maus pagadores..."
   ]
  },
  {
   "cell_type": "markdown",
   "metadata": {
    "id": "_v0f02mE_2si"
   },
   "source": [
    "#### 2) Vamos montar um metadados\n",
    "\n",
    "1. Crie um dataframe com os nomes de cada variável e o tipo de dados de cada variável.\n",
    "2. Adicione uma coluna nesse *dataframe* chamada \"qtd_categorias\" e coloque nela o número de categorias correspondente de cada variável.\n",
    "    Dica:\n",
    "        1. inicie uma lista vazia\n",
    "        2. faça um for ao longo dos nomes das variáveis,\n",
    "        3. conte o número de categorias dessa variável\n",
    "        4. acumule essa informação de 3. na lista que você criou em 1.\n",
    "        5. No final, essa lista pode ser atribuída à nossa variável."
   ]
  },
  {
   "cell_type": "code",
   "execution_count": 140,
   "metadata": {
    "id": "gNF5BRdA_2si"
   },
   "outputs": [
    {
     "name": "stdout",
     "output_type": "stream",
     "text": [
      "                  sexo posse_de_veiculo posse_de_imovel qtd_filhos tipo_renda  \\\n",
      "tipo_dado       object           object          object      int64     object   \n",
      "Qtd_categorias       2                2               2          8          5   \n",
      "\n",
      "               educacao estado_civil tipo_residencia    idade tempo_emprego  \\\n",
      "tipo_dado        object       object          object  float64       float64   \n",
      "Qtd_categorias        5            5               6     5298          3005   \n",
      "\n",
      "               possui_celular possui_fone_comercial possui_fone possui_email  \\\n",
      "tipo_dado               int64                 int64       int64        int64   \n",
      "Qtd_categorias              1                     2           2            2   \n",
      "\n",
      "               qt_pessoas_residencia   mau  \n",
      "tipo_dado                    float64  bool  \n",
      "Qtd_categorias                     9     2  \n"
     ]
    }
   ],
   "source": [
    "data_type = perfil_financeiro.dtypes.tolist()\n",
    "colunas = perfil_financeiro.columns\n",
    "dataframe_tipos = pd.DataFrame([data_type], columns=colunas)\n",
    "qtd_categorias = []\n",
    "for c in colunas:\n",
    "    qtd_categorias.append(perfil_financeiro[c].nunique())\n",
    "dataframe_tipos.loc[len(dataframe_tipos)] = qtd_categorias\n",
    "novos_indices = ['tipo_dado', 'Qtd_categorias']\n",
    "dataframe_tipos.index = novos_indices\n",
    "print(dataframe_tipos)"
   ]
  },
  {
   "cell_type": "markdown",
   "metadata": {},
   "source": [
    "Algo a se destacar aqui, é que as variáveis do tipo float, por exemplo, nã são muito apropriadas ao uso de categorias, portanto a nossa 'quantidade de categorias' no que diz respeito a elas, não é muito relevante."
   ]
  },
  {
   "cell_type": "markdown",
   "metadata": {
    "id": "h0XKJFhY_2si"
   },
   "source": [
    "#### 3) Crie variáveis dummy para as variáveis necessárias (i.e. aquelas que são qualitativas e não estão armazenadas como {0, 1} ou {True, False}. Crie um *dataframe* apenas com as variáveis apropriadas para entrada no scikitlearn - elimine as variáveis tipo *str*, mantendo apenas suas versões *dummy*."
   ]
  },
  {
   "cell_type": "code",
   "execution_count": 143,
   "metadata": {
    "id": "ePbdZDOi_2sj"
   },
   "outputs": [
    {
     "name": "stdout",
     "output_type": "stream",
     "text": [
      "['sexo', 'posse_de_veiculo', 'posse_de_imovel', 'qtd_filhos', 'tipo_renda', 'educacao', 'estado_civil', 'tipo_residencia', 'idade', 'tempo_emprego', 'possui_celular', 'possui_fone_comercial', 'possui_fone', 'possui_email', 'qt_pessoas_residencia', 'mau']\n",
      "      sexo posse_de_veiculo posse_de_imovel  qtd_filhos            tipo_renda  \\\n",
      "0        M                Y               Y           0               Working   \n",
      "1        F                N               Y           0  Commercial associate   \n",
      "2        F                N               Y           0  Commercial associate   \n",
      "3        M                Y               Y           0               Working   \n",
      "4        F                Y               N           0               Working   \n",
      "...    ...              ...             ...         ...                   ...   \n",
      "16645    F                N               Y           0               Working   \n",
      "16646    F                N               Y           0  Commercial associate   \n",
      "16647    M                Y               Y           0               Working   \n",
      "16648    M                Y               Y           0               Working   \n",
      "16649    F                N               Y           0             Pensioner   \n",
      "\n",
      "                            educacao          estado_civil    tipo_residencia  \\\n",
      "0      Secondary / secondary special               Married  House / apartment   \n",
      "1      Secondary / secondary special  Single / not married  House / apartment   \n",
      "2      Secondary / secondary special  Single / not married  House / apartment   \n",
      "3                   Higher education               Married  House / apartment   \n",
      "4                  Incomplete higher               Married  House / apartment   \n",
      "...                              ...                   ...                ...   \n",
      "16645  Secondary / secondary special        Civil marriage  House / apartment   \n",
      "16646  Secondary / secondary special               Married  House / apartment   \n",
      "16647  Secondary / secondary special               Married  House / apartment   \n",
      "16648  Secondary / secondary special               Married  House / apartment   \n",
      "16649               Higher education               Married  House / apartment   \n",
      "\n",
      "           idade  tempo_emprego  ...  qt_pessoas_residencia_2.0  \\\n",
      "0      58.832877       3.106849  ...                       True   \n",
      "1      52.356164       8.358904  ...                      False   \n",
      "2      52.356164       8.358904  ...                      False   \n",
      "3      46.224658       2.106849  ...                       True   \n",
      "4      29.230137       3.021918  ...                       True   \n",
      "...          ...            ...  ...                        ...   \n",
      "16645  54.109589       9.884932  ...                       True   \n",
      "16646  43.389041       7.380822  ...                       True   \n",
      "16647  30.005479       9.800000  ...                       True   \n",
      "16648  30.005479       9.800000  ...                       True   \n",
      "16649  33.936986       3.630137  ...                       True   \n",
      "\n",
      "       qt_pessoas_residencia_3.0  qt_pessoas_residencia_4.0  \\\n",
      "0                          False                      False   \n",
      "1                          False                      False   \n",
      "2                          False                      False   \n",
      "3                          False                      False   \n",
      "4                          False                      False   \n",
      "...                          ...                        ...   \n",
      "16645                      False                      False   \n",
      "16646                      False                      False   \n",
      "16647                      False                      False   \n",
      "16648                      False                      False   \n",
      "16649                      False                      False   \n",
      "\n",
      "       qt_pessoas_residencia_5.0  qt_pessoas_residencia_6.0  \\\n",
      "0                          False                      False   \n",
      "1                          False                      False   \n",
      "2                          False                      False   \n",
      "3                          False                      False   \n",
      "4                          False                      False   \n",
      "...                          ...                        ...   \n",
      "16645                      False                      False   \n",
      "16646                      False                      False   \n",
      "16647                      False                      False   \n",
      "16648                      False                      False   \n",
      "16649                      False                      False   \n",
      "\n",
      "       qt_pessoas_residencia_7.0  qt_pessoas_residencia_9.0  \\\n",
      "0                          False                      False   \n",
      "1                          False                      False   \n",
      "2                          False                      False   \n",
      "3                          False                      False   \n",
      "4                          False                      False   \n",
      "...                          ...                        ...   \n",
      "16645                      False                      False   \n",
      "16646                      False                      False   \n",
      "16647                      False                      False   \n",
      "16648                      False                      False   \n",
      "16649                      False                      False   \n",
      "\n",
      "       qt_pessoas_residencia_15.0  mau_False  mau_True  \n",
      "0                           False       True     False  \n",
      "1                           False       True     False  \n",
      "2                           False       True     False  \n",
      "3                           False       True     False  \n",
      "4                           False       True     False  \n",
      "...                           ...        ...       ...  \n",
      "16645                       False      False      True  \n",
      "16646                       False      False      True  \n",
      "16647                       False      False      True  \n",
      "16648                       False      False      True  \n",
      "16649                       False      False      True  \n",
      "\n",
      "[16650 rows x 69 columns]\n"
     ]
    }
   ],
   "source": [
    "colunas_purificadas = list(colunas)\n",
    "print(colunas_purificadas)\n",
    "del colunas_purificadas[8]\n",
    "del colunas_purificadas[8]\n",
    "\n",
    "for col in colunas_purificadas:\n",
    "    dummies = None\n",
    "    dummies = pd.get_dummies(perfil_financeiro[col], prefix = col)\n",
    "    perfil_financeiro = pd.concat([perfil_financeiro, dummies], axis = 1)\n",
    "\n",
    "print(perfil_financeiro)"
   ]
  },
  {
   "cell_type": "markdown",
   "metadata": {},
   "source": [
    "Com isso, já criamos os dummies para as variáveis apropriadas. Resta, agora, exluir nossas variáveis que deram origem aos nossos dummies, e também as duas variáveis que não são apropriadas para a biblioteca scikitlearn, isto é, as mesmas duas que tiramos ao criarmos a \"colunas_filtradas\". Mas também iremos tirar todas as variáveis que deram origem aos nossos dummies, ou seja, iremos excluir basicamente tudo, exceto a nossa variável default, pois é conveniente ter ela conoco ainda. Na verdade, parece completamente redundante também ter uma coluna para mau_False e outra para mau_True, pois são completamente redundantes. Então:"
   ]
  },
  {
   "cell_type": "code",
   "execution_count": 193,
   "metadata": {},
   "outputs": [
    {
     "name": "stdout",
     "output_type": "stream",
     "text": [
      "       sexo_F  sexo_M  posse_de_veiculo_N  posse_de_veiculo_Y  \\\n",
      "0       False    True               False                True   \n",
      "1        True   False                True               False   \n",
      "2        True   False                True               False   \n",
      "3       False    True               False                True   \n",
      "4        True   False               False                True   \n",
      "...       ...     ...                 ...                 ...   \n",
      "16645    True   False                True               False   \n",
      "16646    True   False                True               False   \n",
      "16647   False    True               False                True   \n",
      "16648   False    True               False                True   \n",
      "16649    True   False                True               False   \n",
      "\n",
      "       posse_de_imovel_N  posse_de_imovel_Y  qtd_filhos_0  qtd_filhos_1  \\\n",
      "0                  False               True          True         False   \n",
      "1                  False               True          True         False   \n",
      "2                  False               True          True         False   \n",
      "3                  False               True          True         False   \n",
      "4                   True              False          True         False   \n",
      "...                  ...                ...           ...           ...   \n",
      "16645              False               True          True         False   \n",
      "16646              False               True          True         False   \n",
      "16647              False               True          True         False   \n",
      "16648              False               True          True         False   \n",
      "16649              False               True          True         False   \n",
      "\n",
      "       qtd_filhos_2  qtd_filhos_3  ...  qt_pessoas_residencia_2.0  \\\n",
      "0             False         False  ...                       True   \n",
      "1             False         False  ...                      False   \n",
      "2             False         False  ...                      False   \n",
      "3             False         False  ...                       True   \n",
      "4             False         False  ...                       True   \n",
      "...             ...           ...  ...                        ...   \n",
      "16645         False         False  ...                       True   \n",
      "16646         False         False  ...                       True   \n",
      "16647         False         False  ...                       True   \n",
      "16648         False         False  ...                       True   \n",
      "16649         False         False  ...                       True   \n",
      "\n",
      "       qt_pessoas_residencia_3.0  qt_pessoas_residencia_4.0  \\\n",
      "0                          False                      False   \n",
      "1                          False                      False   \n",
      "2                          False                      False   \n",
      "3                          False                      False   \n",
      "4                          False                      False   \n",
      "...                          ...                        ...   \n",
      "16645                      False                      False   \n",
      "16646                      False                      False   \n",
      "16647                      False                      False   \n",
      "16648                      False                      False   \n",
      "16649                      False                      False   \n",
      "\n",
      "       qt_pessoas_residencia_5.0  qt_pessoas_residencia_6.0  \\\n",
      "0                          False                      False   \n",
      "1                          False                      False   \n",
      "2                          False                      False   \n",
      "3                          False                      False   \n",
      "4                          False                      False   \n",
      "...                          ...                        ...   \n",
      "16645                      False                      False   \n",
      "16646                      False                      False   \n",
      "16647                      False                      False   \n",
      "16648                      False                      False   \n",
      "16649                      False                      False   \n",
      "\n",
      "       qt_pessoas_residencia_7.0  qt_pessoas_residencia_9.0  \\\n",
      "0                          False                      False   \n",
      "1                          False                      False   \n",
      "2                          False                      False   \n",
      "3                          False                      False   \n",
      "4                          False                      False   \n",
      "...                          ...                        ...   \n",
      "16645                      False                      False   \n",
      "16646                      False                      False   \n",
      "16647                      False                      False   \n",
      "16648                      False                      False   \n",
      "16649                      False                      False   \n",
      "\n",
      "       qt_pessoas_residencia_15.0  mau_False  mau_True  \n",
      "0                           False       True     False  \n",
      "1                           False       True     False  \n",
      "2                           False       True     False  \n",
      "3                           False       True     False  \n",
      "4                           False       True     False  \n",
      "...                           ...        ...       ...  \n",
      "16645                       False      False      True  \n",
      "16646                       False      False      True  \n",
      "16647                       False      False      True  \n",
      "16648                       False      False      True  \n",
      "16649                       False      False      True  \n",
      "\n",
      "[16650 rows x 53 columns]\n",
      "['sexo_False', 'posse_de_veiculo_False', 'posse_de_imovel_False', 'possui_fone_comercial_False', 'possui_fone_False', 'possui_email_False', 'mau_False']\n",
      "       sexo_F  sexo_M  posse_de_veiculo_N  posse_de_veiculo_Y  \\\n",
      "0       False    True               False                True   \n",
      "1        True   False                True               False   \n",
      "2        True   False                True               False   \n",
      "3       False    True               False                True   \n",
      "4        True   False               False                True   \n",
      "...       ...     ...                 ...                 ...   \n",
      "16645    True   False                True               False   \n",
      "16646    True   False                True               False   \n",
      "16647   False    True               False                True   \n",
      "16648   False    True               False                True   \n",
      "16649    True   False                True               False   \n",
      "\n",
      "       posse_de_imovel_N  posse_de_imovel_Y  qtd_filhos_0  qtd_filhos_1  \\\n",
      "0                  False               True          True         False   \n",
      "1                  False               True          True         False   \n",
      "2                  False               True          True         False   \n",
      "3                  False               True          True         False   \n",
      "4                   True              False          True         False   \n",
      "...                  ...                ...           ...           ...   \n",
      "16645              False               True          True         False   \n",
      "16646              False               True          True         False   \n",
      "16647              False               True          True         False   \n",
      "16648              False               True          True         False   \n",
      "16649              False               True          True         False   \n",
      "\n",
      "       qtd_filhos_2  qtd_filhos_3  ...  qt_pessoas_residencia_1.0  \\\n",
      "0             False         False  ...                      False   \n",
      "1             False         False  ...                       True   \n",
      "2             False         False  ...                       True   \n",
      "3             False         False  ...                      False   \n",
      "4             False         False  ...                      False   \n",
      "...             ...           ...  ...                        ...   \n",
      "16645         False         False  ...                      False   \n",
      "16646         False         False  ...                      False   \n",
      "16647         False         False  ...                      False   \n",
      "16648         False         False  ...                      False   \n",
      "16649         False         False  ...                      False   \n",
      "\n",
      "       qt_pessoas_residencia_2.0  qt_pessoas_residencia_3.0  \\\n",
      "0                           True                      False   \n",
      "1                          False                      False   \n",
      "2                          False                      False   \n",
      "3                           True                      False   \n",
      "4                           True                      False   \n",
      "...                          ...                        ...   \n",
      "16645                       True                      False   \n",
      "16646                       True                      False   \n",
      "16647                       True                      False   \n",
      "16648                       True                      False   \n",
      "16649                       True                      False   \n",
      "\n",
      "       qt_pessoas_residencia_4.0  qt_pessoas_residencia_5.0  \\\n",
      "0                          False                      False   \n",
      "1                          False                      False   \n",
      "2                          False                      False   \n",
      "3                          False                      False   \n",
      "4                          False                      False   \n",
      "...                          ...                        ...   \n",
      "16645                      False                      False   \n",
      "16646                      False                      False   \n",
      "16647                      False                      False   \n",
      "16648                      False                      False   \n",
      "16649                      False                      False   \n",
      "\n",
      "       qt_pessoas_residencia_6.0  qt_pessoas_residencia_7.0  \\\n",
      "0                          False                      False   \n",
      "1                          False                      False   \n",
      "2                          False                      False   \n",
      "3                          False                      False   \n",
      "4                          False                      False   \n",
      "...                          ...                        ...   \n",
      "16645                      False                      False   \n",
      "16646                      False                      False   \n",
      "16647                      False                      False   \n",
      "16648                      False                      False   \n",
      "16649                      False                      False   \n",
      "\n",
      "       qt_pessoas_residencia_9.0  qt_pessoas_residencia_15.0  mau_True  \n",
      "0                          False                       False     False  \n",
      "1                          False                       False     False  \n",
      "2                          False                       False     False  \n",
      "3                          False                       False     False  \n",
      "4                          False                       False     False  \n",
      "...                          ...                         ...       ...  \n",
      "16645                      False                       False      True  \n",
      "16646                      False                       False      True  \n",
      "16647                      False                       False      True  \n",
      "16648                      False                       False      True  \n",
      "16649                      False                       False      True  \n",
      "\n",
      "[16650 rows x 52 columns]\n"
     ]
    }
   ],
   "source": [
    "perfil_financeiro_preparado = perfil_financeiro.drop(columns = colunas, inplace = False)\n",
    "print(perfil_financeiro_preparado)\n",
    "\n",
    "# As nossas variáveis que eram binárias também, por consequência, estão poluídas, pois se uma for True, a outra necessariamente será False, e a\n",
    "# existencia de duas colunas é reduntante. Consultemos nosso dataframe de tipagem:\n",
    "is_binary = dataframe_tipos.map(lambda x: x == 2)\n",
    "colunas_binarias = is_binary.columns[is_binary.any()].tolist()\n",
    "for i in range(0, len(colunas_binarias)):\n",
    "    colunas_binarias[i] += '_False'\n",
    "print(colunas_binarias)\n",
    "perfil_financeiro_preparado.drop(columns = ['mau_False'], inplace = True)\n",
    "\n",
    "\n",
    "# Deixo aqui um comentário importante: seria extremamente desejável eliminar uma das dummies que foram criadas em variáveis binárias complementaros,\n",
    "# , mas não consegui um método eficiente de fazer isso. Até criei um método de ver quais eram as colunas binárias, mas o fato de ser não uniforme a\n",
    "# nomenclatura delas impossibilitou a resolução prática. Então, como é apenas um exercício, e estes dados, eu suponho, não serão exibidos em um contexto\n",
    "# onde a performance de execução seja indispensável, deixarei a atividade deste modo... no entanto, consciente de que não é o ideal... "
   ]
  },
  {
   "cell_type": "markdown",
   "metadata": {
    "id": "uhaqFcPE_2sj"
   },
   "source": [
    "#### 4) Qual variável é mais poderosa?\n",
    "\n",
    "Considere as variáveis ```possui_email``` e ```posse_de_veiculo```. Faça uma tabela cruzada entre elas e responda qual delas te parece mais poderosa para prever a probabilidade de ```mau = 1```?"
   ]
  },
  {
   "cell_type": "code",
   "execution_count": 243,
   "metadata": {
    "id": "3wUAHc_-_2sj"
   },
   "outputs": [
    {
     "name": "stdout",
     "output_type": "stream",
     "text": [
      "Index(['sexo_F', 'sexo_M', 'posse_de_veiculo_N', 'posse_de_veiculo_Y',\n",
      "       'posse_de_imovel_N', 'posse_de_imovel_Y', 'qtd_filhos_0',\n",
      "       'qtd_filhos_1', 'qtd_filhos_2', 'qtd_filhos_3', 'qtd_filhos_4',\n",
      "       'qtd_filhos_5', 'qtd_filhos_7', 'qtd_filhos_14',\n",
      "       'tipo_renda_Commercial associate', 'tipo_renda_Pensioner',\n",
      "       'tipo_renda_State servant', 'tipo_renda_Student', 'tipo_renda_Working',\n",
      "       'educacao_Academic degree', 'educacao_Higher education',\n",
      "       'educacao_Incomplete higher', 'educacao_Lower secondary',\n",
      "       'educacao_Secondary / secondary special', 'estado_civil_Civil marriage',\n",
      "       'estado_civil_Married', 'estado_civil_Separated',\n",
      "       'estado_civil_Single / not married', 'estado_civil_Widow',\n",
      "       'tipo_residencia_Co-op apartment', 'tipo_residencia_House / apartment',\n",
      "       'tipo_residencia_Municipal apartment',\n",
      "       'tipo_residencia_Office apartment', 'tipo_residencia_Rented apartment',\n",
      "       'tipo_residencia_With parents', 'possui_celular_1',\n",
      "       'possui_fone_comercial_0', 'possui_fone_comercial_1', 'possui_fone_0',\n",
      "       'possui_fone_1', 'possui_email_0', 'possui_email_1',\n",
      "       'qt_pessoas_residencia_1.0', 'qt_pessoas_residencia_2.0',\n",
      "       'qt_pessoas_residencia_3.0', 'qt_pessoas_residencia_4.0',\n",
      "       'qt_pessoas_residencia_5.0', 'qt_pessoas_residencia_6.0',\n",
      "       'qt_pessoas_residencia_7.0', 'qt_pessoas_residencia_9.0',\n",
      "       'qt_pessoas_residencia_15.0', 'mau_True'],\n",
      "      dtype='object')\n",
      "posse_de_veiculo_Y  False  True \n",
      "possui_email_1                  \n",
      "False                9341   5829\n",
      "True                  837    643\n",
      "posse_de_veiculo_Y  False  True \n",
      "possui_email_1                  \n",
      "False                 233    127\n",
      "True                   14     16\n"
     ]
    }
   ],
   "source": [
    "print(perfil_financeiro_preparado.columns)\n",
    "tabela = pd.crosstab(perfil_financeiro_preparado['possui_email_1'], perfil_financeiro_preparado['posse_de_veiculo_Y'])\n",
    "tabela_soma_default = pd.crosstab(perfil_financeiro_preparado['possui_email_1'], perfil_financeiro_preparado['posse_de_veiculo_Y'],\n",
    "            values = perfil_financeiro_preparado['mau_True'], aggfunc='sum'\n",
    "           )\n",
    "# prop_carros = soma_possui_carro/(soma_possui_carro+soma_nao_carro)\n",
    "# prop_email = soma_possui_email/(soma_nao_email+soma_possui_email)\n",
    "# print(prop_carros)\n",
    "# print(prop_email)\n",
    "print(tabela)\n",
    "print(tabela_soma_default)"
   ]
  },
  {
   "cell_type": "markdown",
   "metadata": {},
   "source": [
    "A enorme discrepancia entre a proporcionalidedade de posse de veículo, quando a quantidade de não possuintes de veículo quase dobrou o valor de não possuintes, na linha de não possuidores de email, a quantidade de defaults manteve seu crescimento aproximadamente na mesma proporção. Agora, quando a \n",
    "quantidade de possuidores de email diminui em aproximadamente 25%, a alteração no default é mínima... então, a variável de posse de veículo parece acompanhar o default com mais eficiência."
   ]
  },
  {
   "cell_type": "markdown",
   "metadata": {
    "id": "G2Issl2e_2sj"
   },
   "source": [
    "#### 5) Salve a base, pois ela será utilizada no final deste módulo."
   ]
  },
  {
   "cell_type": "code",
   "execution_count": 247,
   "metadata": {
    "id": "KSEj8OL9_2sk"
   },
   "outputs": [],
   "source": [
    "perfil_financeiro_preparado.to_csv('financeiro_trabalhado', index=False)"
   ]
  },
  {
   "cell_type": "code",
   "execution_count": null,
   "metadata": {},
   "outputs": [],
   "source": []
  }
 ],
 "metadata": {
  "colab": {
   "provenance": []
  },
  "kernelspec": {
   "display_name": "Python 3 (ipykernel)",
   "language": "python",
   "name": "python3"
  },
  "language_info": {
   "codemirror_mode": {
    "name": "ipython",
    "version": 3
   },
   "file_extension": ".py",
   "mimetype": "text/x-python",
   "name": "python",
   "nbconvert_exporter": "python",
   "pygments_lexer": "ipython3",
   "version": "3.12.4"
  }
 },
 "nbformat": 4,
 "nbformat_minor": 4
}
